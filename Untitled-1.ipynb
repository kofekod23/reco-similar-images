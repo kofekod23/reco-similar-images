{
 "cells": [
  {
   "cell_type": "code",
   "execution_count": 1,
   "id": "fe6542ac",
   "metadata": {},
   "outputs": [
    {
     "name": "stdout",
     "output_type": "stream",
     "text": [
      "Requirement already satisfied: weaviate-client in /Users/julien/.pyenv/versions/3.10.12/envs/Artefact/lib/python3.10/site-packages (4.16.6)\n",
      "Requirement already satisfied: httpx<0.29.0,>=0.26.0 in /Users/julien/.pyenv/versions/3.10.12/envs/Artefact/lib/python3.10/site-packages (from weaviate-client) (0.28.1)\n",
      "Requirement already satisfied: validators<1.0.0,>=0.34.0 in /Users/julien/.pyenv/versions/3.10.12/envs/Artefact/lib/python3.10/site-packages (from weaviate-client) (0.35.0)\n",
      "Requirement already satisfied: authlib<2.0.0,>=1.2.1 in /Users/julien/.pyenv/versions/3.10.12/envs/Artefact/lib/python3.10/site-packages (from weaviate-client) (1.6.1)\n",
      "Requirement already satisfied: pydantic<3.0.0,>=2.8.0 in /Users/julien/.pyenv/versions/3.10.12/envs/Artefact/lib/python3.10/site-packages (from weaviate-client) (2.11.7)\n",
      "Requirement already satisfied: grpcio<1.80.0,>=1.59.5 in /Users/julien/.pyenv/versions/3.10.12/envs/Artefact/lib/python3.10/site-packages (from weaviate-client) (1.74.0)\n",
      "Requirement already satisfied: grpcio-health-checking<1.80.0,>=1.59.5 in /Users/julien/.pyenv/versions/3.10.12/envs/Artefact/lib/python3.10/site-packages (from weaviate-client) (1.74.0)\n",
      "Requirement already satisfied: deprecation<3.0.0,>=2.1.0 in /Users/julien/.pyenv/versions/3.10.12/envs/Artefact/lib/python3.10/site-packages (from weaviate-client) (2.1.0)\n",
      "Requirement already satisfied: cryptography in /Users/julien/.pyenv/versions/3.10.12/envs/Artefact/lib/python3.10/site-packages (from authlib<2.0.0,>=1.2.1->weaviate-client) (45.0.6)\n",
      "Requirement already satisfied: packaging in /Users/julien/.pyenv/versions/3.10.12/envs/Artefact/lib/python3.10/site-packages (from deprecation<3.0.0,>=2.1.0->weaviate-client) (25.0)\n",
      "Requirement already satisfied: protobuf<7.0.0,>=6.31.1 in /Users/julien/.pyenv/versions/3.10.12/envs/Artefact/lib/python3.10/site-packages (from grpcio-health-checking<1.80.0,>=1.59.5->weaviate-client) (6.31.1)\n",
      "Requirement already satisfied: anyio in /Users/julien/.pyenv/versions/3.10.12/envs/Artefact/lib/python3.10/site-packages (from httpx<0.29.0,>=0.26.0->weaviate-client) (4.9.0)\n",
      "Requirement already satisfied: certifi in /Users/julien/.pyenv/versions/3.10.12/envs/Artefact/lib/python3.10/site-packages (from httpx<0.29.0,>=0.26.0->weaviate-client) (2025.6.15)\n",
      "Requirement already satisfied: httpcore==1.* in /Users/julien/.pyenv/versions/3.10.12/envs/Artefact/lib/python3.10/site-packages (from httpx<0.29.0,>=0.26.0->weaviate-client) (1.0.9)\n",
      "Requirement already satisfied: idna in /Users/julien/.pyenv/versions/3.10.12/envs/Artefact/lib/python3.10/site-packages (from httpx<0.29.0,>=0.26.0->weaviate-client) (3.10)\n",
      "Requirement already satisfied: h11>=0.16 in /Users/julien/.pyenv/versions/3.10.12/envs/Artefact/lib/python3.10/site-packages (from httpcore==1.*->httpx<0.29.0,>=0.26.0->weaviate-client) (0.16.0)\n",
      "Requirement already satisfied: annotated-types>=0.6.0 in /Users/julien/.pyenv/versions/3.10.12/envs/Artefact/lib/python3.10/site-packages (from pydantic<3.0.0,>=2.8.0->weaviate-client) (0.7.0)\n",
      "Requirement already satisfied: pydantic-core==2.33.2 in /Users/julien/.pyenv/versions/3.10.12/envs/Artefact/lib/python3.10/site-packages (from pydantic<3.0.0,>=2.8.0->weaviate-client) (2.33.2)\n",
      "Requirement already satisfied: typing-extensions>=4.12.2 in /Users/julien/.pyenv/versions/3.10.12/envs/Artefact/lib/python3.10/site-packages (from pydantic<3.0.0,>=2.8.0->weaviate-client) (4.14.1)\n",
      "Requirement already satisfied: typing-inspection>=0.4.0 in /Users/julien/.pyenv/versions/3.10.12/envs/Artefact/lib/python3.10/site-packages (from pydantic<3.0.0,>=2.8.0->weaviate-client) (0.4.1)\n",
      "Requirement already satisfied: exceptiongroup>=1.0.2 in /Users/julien/.pyenv/versions/3.10.12/envs/Artefact/lib/python3.10/site-packages (from anyio->httpx<0.29.0,>=0.26.0->weaviate-client) (1.3.0)\n",
      "Requirement already satisfied: sniffio>=1.1 in /Users/julien/.pyenv/versions/3.10.12/envs/Artefact/lib/python3.10/site-packages (from anyio->httpx<0.29.0,>=0.26.0->weaviate-client) (1.3.1)\n",
      "Requirement already satisfied: cffi>=1.14 in /Users/julien/.pyenv/versions/3.10.12/envs/Artefact/lib/python3.10/site-packages (from cryptography->authlib<2.0.0,>=1.2.1->weaviate-client) (1.17.1)\n",
      "Requirement already satisfied: pycparser in /Users/julien/.pyenv/versions/3.10.12/envs/Artefact/lib/python3.10/site-packages (from cffi>=1.14->cryptography->authlib<2.0.0,>=1.2.1->weaviate-client) (2.22)\n",
      "Note: you may need to restart the kernel to use updated packages.\n"
     ]
    }
   ],
   "source": [
    "pip install weaviate-client"
   ]
  },
  {
   "cell_type": "code",
   "execution_count": 2,
   "id": "4c28c375",
   "metadata": {},
   "outputs": [
    {
     "name": "stderr",
     "output_type": "stream",
     "text": [
      "/Users/julien/.pyenv/versions/Artefact/lib/python3.10/site-packages/google/protobuf/runtime_version.py:98: UserWarning: Protobuf gencode version 5.29.0 is exactly one major version older than the runtime version 6.31.1 at v1/aggregate.proto. Please update the gencode to avoid compatibility violations in the next runtime release.\n",
      "  warnings.warn(\n",
      "/Users/julien/.pyenv/versions/Artefact/lib/python3.10/site-packages/google/protobuf/runtime_version.py:98: UserWarning: Protobuf gencode version 5.29.0 is exactly one major version older than the runtime version 6.31.1 at v1/base.proto. Please update the gencode to avoid compatibility violations in the next runtime release.\n",
      "  warnings.warn(\n",
      "/Users/julien/.pyenv/versions/Artefact/lib/python3.10/site-packages/google/protobuf/runtime_version.py:98: UserWarning: Protobuf gencode version 5.29.0 is exactly one major version older than the runtime version 6.31.1 at v1/base_search.proto. Please update the gencode to avoid compatibility violations in the next runtime release.\n",
      "  warnings.warn(\n",
      "/Users/julien/.pyenv/versions/Artefact/lib/python3.10/site-packages/google/protobuf/runtime_version.py:98: UserWarning: Protobuf gencode version 5.29.0 is exactly one major version older than the runtime version 6.31.1 at v1/batch_delete.proto. Please update the gencode to avoid compatibility violations in the next runtime release.\n",
      "  warnings.warn(\n",
      "/Users/julien/.pyenv/versions/Artefact/lib/python3.10/site-packages/google/protobuf/runtime_version.py:98: UserWarning: Protobuf gencode version 5.29.0 is exactly one major version older than the runtime version 6.31.1 at v1/batch.proto. Please update the gencode to avoid compatibility violations in the next runtime release.\n",
      "  warnings.warn(\n",
      "/Users/julien/.pyenv/versions/Artefact/lib/python3.10/site-packages/google/protobuf/runtime_version.py:98: UserWarning: Protobuf gencode version 5.29.0 is exactly one major version older than the runtime version 6.31.1 at v1/search_get.proto. Please update the gencode to avoid compatibility violations in the next runtime release.\n",
      "  warnings.warn(\n",
      "/Users/julien/.pyenv/versions/Artefact/lib/python3.10/site-packages/google/protobuf/runtime_version.py:98: UserWarning: Protobuf gencode version 5.29.0 is exactly one major version older than the runtime version 6.31.1 at v1/generative.proto. Please update the gencode to avoid compatibility violations in the next runtime release.\n",
      "  warnings.warn(\n",
      "/Users/julien/.pyenv/versions/Artefact/lib/python3.10/site-packages/google/protobuf/runtime_version.py:98: UserWarning: Protobuf gencode version 5.29.0 is exactly one major version older than the runtime version 6.31.1 at v1/properties.proto. Please update the gencode to avoid compatibility violations in the next runtime release.\n",
      "  warnings.warn(\n",
      "/Users/julien/.pyenv/versions/Artefact/lib/python3.10/site-packages/google/protobuf/runtime_version.py:98: UserWarning: Protobuf gencode version 5.29.0 is exactly one major version older than the runtime version 6.31.1 at v1/tenants.proto. Please update the gencode to avoid compatibility violations in the next runtime release.\n",
      "  warnings.warn(\n"
     ]
    }
   ],
   "source": [
    "import os, weaviate, weaviate.classes as wvc\n",
    "from weaviate.classes.init import Auth\n",
    "from weaviate.classes.config import Configure, Property, DataType\n",
    "\n",
    "API_KEY = os.getenv(\"WEAVIATE_API_KEY\")\n",
    "\n"
   ]
  },
  {
   "cell_type": "code",
   "execution_count": 16,
   "id": "84734b01",
   "metadata": {},
   "outputs": [
    {
     "ename": "SyntaxError",
     "evalue": "invalid syntax (1039988328.py, line 8)",
     "output_type": "error",
     "traceback": [
      "\u001b[0;36m  Cell \u001b[0;32mIn[16], line 8\u001b[0;36m\u001b[0m\n\u001b[0;31m    as client:\u001b[0m\n\u001b[0m    ^\u001b[0m\n\u001b[0;31mSyntaxError\u001b[0m\u001b[0;31m:\u001b[0m invalid syntax\n"
     ]
    }
   ],
   "source": [
    "with weaviate.connect_to_custom(\n",
    "    http_host=\"localhost\",\n",
    "    http_port=8080,\n",
    "    http_secure=False,\n",
    "    grpc_host=\"localhost\",\n",
    "    grpc_port=50051,\n",
    "    grpc_secure=False):\n",
    "    as client:\n",
    "client.is_ready()"
   ]
  },
  {
   "cell_type": "markdown",
   "id": "2100ea35",
   "metadata": {},
   "source": []
  },
  {
   "cell_type": "code",
   "execution_count": 6,
   "id": "029dc2ff",
   "metadata": {},
   "outputs": [
    {
     "ename": "TypeError",
     "evalue": "connect_to_custom() missing 5 required positional arguments: 'http_port', 'http_secure', 'grpc_host', 'grpc_port', and 'grpc_secure'",
     "output_type": "error",
     "traceback": [
      "\u001b[0;31m---------------------------------------------------------------------------\u001b[0m",
      "\u001b[0;31mTypeError\u001b[0m                                 Traceback (most recent call last)",
      "Cell \u001b[0;32mIn[6], line 1\u001b[0m\n\u001b[0;32m----> 1\u001b[0m client \u001b[38;5;241m=\u001b[39m \u001b[43mweaviate\u001b[49m\u001b[38;5;241;43m.\u001b[39;49m\u001b[43mconnect_to_custom\u001b[49m\u001b[43m(\u001b[49m\n\u001b[1;32m      2\u001b[0m \u001b[43m    \u001b[49m\u001b[43mhttp_host\u001b[49m\u001b[38;5;241;43m=\u001b[39;49m\u001b[38;5;124;43m\"\u001b[39;49m\u001b[38;5;124;43mhttp://localhost:8080\u001b[39;49m\u001b[38;5;124;43m\"\u001b[39;49m\u001b[43m,\u001b[49m\n\u001b[1;32m      3\u001b[0m \u001b[43m    \u001b[49m\u001b[43mauth_credentials\u001b[49m\u001b[38;5;241;43m=\u001b[39;49m\u001b[43mAuth\u001b[49m\u001b[38;5;241;43m.\u001b[39;49m\u001b[43mapi_key\u001b[49m\u001b[43m(\u001b[49m\u001b[43mAPI_KEY\u001b[49m\u001b[43m)\u001b[49m\n\u001b[1;32m      4\u001b[0m \u001b[43m)\u001b[49m\n\u001b[1;32m      6\u001b[0m \u001b[38;5;66;03m# (Re)crée une collection \"Products\" avec un espace vectoriel nommé \"img_vec\"\u001b[39;00m\n\u001b[1;32m      7\u001b[0m \u001b[38;5;28;01mif\u001b[39;00m client\u001b[38;5;241m.\u001b[39mcollections\u001b[38;5;241m.\u001b[39mexists(\u001b[38;5;124m\"\u001b[39m\u001b[38;5;124mProducts\u001b[39m\u001b[38;5;124m\"\u001b[39m):\n",
      "\u001b[0;31mTypeError\u001b[0m: connect_to_custom() missing 5 required positional arguments: 'http_port', 'http_secure', 'grpc_host', 'grpc_port', and 'grpc_secure'"
     ]
    }
   ],
   "source": [
    "client = weaviate.connect_to_custom(\n",
    "    http_host=\"http://localhost:8080\",\n",
    "    auth_credentials=Auth.api_key(API_KEY)\n",
    ")\n",
    "\n",
    "# (Re)crée une collection \"Products\" avec un espace vectoriel nommé \"img_vec\"\n",
    "if client.collections.exists(\"Products\"):\n",
    "    client.collections.delete(\"Products\")\n",
    "\n",
    "client.collections.create(\n",
    "    name=\"Products\",\n",
    "    properties=[\n",
    "        Property(name=\"sku\", data_type=DataType.TEXT),\n",
    "        Property(name=\"title\", data_type=DataType.TEXT),\n",
    "    ],\n",
    "    vector_config=[Configure.Vectors.self_provided(name=\"img_vec\")]\n",
    ")\n",
    "\n",
    "col = client.collections.get(\"Products\")\n",
    "\n"
   ]
  },
  {
   "cell_type": "code",
   "execution_count": null,
   "id": "3281c774",
   "metadata": {},
   "outputs": [],
   "source": [
    "# Deux inserts de test avec de petits vecteurs 4D\n",
    "col.data.insert(properties={\"sku\":\"SKU001\",\"title\":\"Pull col rond\"}, vector={\"img_vec\":[0.1,0.2,0.3,0.4]})\n",
    "col.data.insert(properties={\"sku\":\"SKU002\",\"title\":\"Pull zippé\"},   vector={\"img_vec\":[0.12,0.21,0.31,0.39]})\n",
    "\n",
    "# Recherche de similarité\n",
    "res = col.query.near_vector(\n",
    "    near_vector=[0.11,0.2,0.29,0.41],\n",
    "    target_vector=\"img_vec\",\n",
    "    limit=2,\n",
    "    return_properties=[\"sku\",\"title\"],\n",
    "    return_metadata=wvc.query.MetadataQuery(distance=True)\n",
    ")\n",
    "for o in res.objects:\n",
    "    print(round(o.metadata.distance,4), o.properties)\n",
    "\n",
    "client.close()\n",
    "PY"
   ]
  },
  {
   "cell_type": "code",
   "execution_count": null,
   "id": "bfb359ea",
   "metadata": {},
   "outputs": [],
   "source": [
    "WEAVIATE_API_KEY=$KEY python test_weaviate.py\n"
   ]
  }
 ],
 "metadata": {
  "kernelspec": {
   "display_name": "Artefact",
   "language": "python",
   "name": "python3"
  },
  "language_info": {
   "codemirror_mode": {
    "name": "ipython",
    "version": 3
   },
   "file_extension": ".py",
   "mimetype": "text/x-python",
   "name": "python",
   "nbconvert_exporter": "python",
   "pygments_lexer": "ipython3",
   "version": "3.10.12"
  }
 },
 "nbformat": 4,
 "nbformat_minor": 5
}
